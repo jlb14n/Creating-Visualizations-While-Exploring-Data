{
 "cells": [
  {
   "cell_type": "code",
   "execution_count": 1,
   "metadata": {},
   "outputs": [
    {
     "data": {
      "text/plain": [
       "[['EMPSZFI', 'EMPSZFI_LABEL', 'EMP', 'us'],\n",
       " ['001', 'All firms', '128196406', '1'],\n",
       " ['611', 'Firms with no employees', '0', '1'],\n",
       " ['612', 'Firms with 1 to 4 employees', '5612254', '1'],\n",
       " ['620', 'Firms with 5 to 9 employees', '6265576', '1'],\n",
       " ['630', 'Firms with 10 to 19 employees', '8242749', '1'],\n",
       " ['641', 'Firms with 20 to 49 employees', '12161051', '1'],\n",
       " ['642', 'Firms with 50 to 99 employees', '8533853', '1'],\n",
       " ['651', 'Firms with 100 to 249 employees', '10657260', '1'],\n",
       " ['652', 'Firms with 250 to 499 employees', '7491988', '1'],\n",
       " ['657', 'Firms with 500 employees or more', '69231676', '1']]"
      ]
     },
     "execution_count": 1,
     "metadata": {},
     "output_type": "execute_result"
    }
   ],
   "source": [
    "import requests\n",
    "import json\n",
    "import pandas as pd\n",
    "import matplotlib.pyplot as plt\n",
    "%matplotlib inline\n",
    "\n",
    "params=\"GEO_ID,NAME,NAICS2017,NAICS2017_LABEL,SEX,SEX_LABEL,ETH_GROUP,ETH_GROUP_LABEL,RACE_GROUP,RACE_GROUP_LABEL,VET_GROUP,VET_GROUP_LABEL,EMPSZFI,EMPSZFI_LABEL,RACE_GROUP_LABEL,FIRMPDEMP,FIRMPDEMP_F,RCPPDEMP,RCPPDEMP_F,EMP,EMP_F,PAYANN,PAYANN_F,FIRMPDEMP_S,FIRMPDEMP_S_F,RCPPDEMP_S,RCPPDEMP_S_F,EMP_S,EMP_S_F,PAYANN_S,PAYANN_S_F\"\n",
    "params=\"EMPSZFI,EMPSZFI_LABEL,EMP\"\n",
    "location=\"us:*\"\n",
    "key=\"b2c289dbb192d92ff73949ae8d4157f0731334e5\"\n",
    "url=f\"https://api.census.gov/data/2018/abscs?get={params}&for={location}&key={key}\"\n",
    "\n",
    "\n",
    "full_list=json.loads(requests.get(url).text)\n",
    "\n",
    "full_list"
   ]
  },
  {
   "cell_type": "code",
   "execution_count": 2,
   "metadata": {},
   "outputs": [
    {
     "name": "stdout",
     "output_type": "stream",
     "text": [
      "['EMPSZFI', 'EMPSZFI_LABEL', 'EMP', 'us']\n",
      "[['611', 'Firms with no employees', '0', '1'], ['612', 'Firms with 1 to 4 employees', '5612254', '1'], ['620', 'Firms with 5 to 9 employees', '6265576', '1'], ['630', 'Firms with 10 to 19 employees', '8242749', '1'], ['641', 'Firms with 20 to 49 employees', '12161051', '1'], ['642', 'Firms with 50 to 99 employees', '8533853', '1'], ['651', 'Firms with 100 to 249 employees', '10657260', '1'], ['652', 'Firms with 250 to 499 employees', '7491988', '1'], ['657', 'Firms with 500 employees or more', '69231676', '1']]\n"
     ]
    },
    {
     "data": {
      "text/html": [
       "<div>\n",
       "<style scoped>\n",
       "    .dataframe tbody tr th:only-of-type {\n",
       "        vertical-align: middle;\n",
       "    }\n",
       "\n",
       "    .dataframe tbody tr th {\n",
       "        vertical-align: top;\n",
       "    }\n",
       "\n",
       "    .dataframe thead th {\n",
       "        text-align: right;\n",
       "    }\n",
       "</style>\n",
       "<table border=\"1\" class=\"dataframe\">\n",
       "  <thead>\n",
       "    <tr style=\"text-align: right;\">\n",
       "      <th></th>\n",
       "      <th>EMPSZFI</th>\n",
       "      <th>EMPSZFI_LABEL</th>\n",
       "      <th>EMP</th>\n",
       "      <th>us</th>\n",
       "    </tr>\n",
       "  </thead>\n",
       "  <tbody>\n",
       "    <tr>\n",
       "      <th>0</th>\n",
       "      <td>611</td>\n",
       "      <td>Firms with no employees</td>\n",
       "      <td>0</td>\n",
       "      <td>1</td>\n",
       "    </tr>\n",
       "    <tr>\n",
       "      <th>1</th>\n",
       "      <td>612</td>\n",
       "      <td>Firms with 1 to 4 employees</td>\n",
       "      <td>5612254</td>\n",
       "      <td>1</td>\n",
       "    </tr>\n",
       "    <tr>\n",
       "      <th>2</th>\n",
       "      <td>620</td>\n",
       "      <td>Firms with 5 to 9 employees</td>\n",
       "      <td>6265576</td>\n",
       "      <td>1</td>\n",
       "    </tr>\n",
       "    <tr>\n",
       "      <th>3</th>\n",
       "      <td>630</td>\n",
       "      <td>Firms with 10 to 19 employees</td>\n",
       "      <td>8242749</td>\n",
       "      <td>1</td>\n",
       "    </tr>\n",
       "    <tr>\n",
       "      <th>4</th>\n",
       "      <td>641</td>\n",
       "      <td>Firms with 20 to 49 employees</td>\n",
       "      <td>12161051</td>\n",
       "      <td>1</td>\n",
       "    </tr>\n",
       "  </tbody>\n",
       "</table>\n",
       "</div>"
      ],
      "text/plain": [
       "  EMPSZFI                  EMPSZFI_LABEL       EMP us\n",
       "0     611        Firms with no employees         0  1\n",
       "1     612    Firms with 1 to 4 employees   5612254  1\n",
       "2     620    Firms with 5 to 9 employees   6265576  1\n",
       "3     630  Firms with 10 to 19 employees   8242749  1\n",
       "4     641  Firms with 20 to 49 employees  12161051  1"
      ]
     },
     "execution_count": 2,
     "metadata": {},
     "output_type": "execute_result"
    }
   ],
   "source": [
    "headers = full_list.pop(0)\n",
    "full_list.pop(0)\n",
    "print(headers)\n",
    "print(full_list)\n",
    "\n",
    "df = pd.DataFrame(full_list, columns=headers)\n",
    "df.head()\n",
    "\n"
   ]
  },
  {
   "cell_type": "code",
   "execution_count": 3,
   "metadata": {},
   "outputs": [
    {
     "data": {
      "text/html": [
       "<div>\n",
       "<style scoped>\n",
       "    .dataframe tbody tr th:only-of-type {\n",
       "        vertical-align: middle;\n",
       "    }\n",
       "\n",
       "    .dataframe tbody tr th {\n",
       "        vertical-align: top;\n",
       "    }\n",
       "\n",
       "    .dataframe thead th {\n",
       "        text-align: right;\n",
       "    }\n",
       "</style>\n",
       "<table border=\"1\" class=\"dataframe\">\n",
       "  <thead>\n",
       "    <tr style=\"text-align: right;\">\n",
       "      <th></th>\n",
       "      <th>EMPSZFI</th>\n",
       "      <th>EMPSZFI_LABEL</th>\n",
       "      <th>EMP</th>\n",
       "      <th>us</th>\n",
       "    </tr>\n",
       "  </thead>\n",
       "  <tbody>\n",
       "    <tr>\n",
       "      <th>0</th>\n",
       "      <td>611</td>\n",
       "      <td>Firms with no employees</td>\n",
       "      <td>0</td>\n",
       "      <td>1</td>\n",
       "    </tr>\n",
       "    <tr>\n",
       "      <th>1</th>\n",
       "      <td>612</td>\n",
       "      <td>Firms with 1 to 4 employees</td>\n",
       "      <td>5612254</td>\n",
       "      <td>1</td>\n",
       "    </tr>\n",
       "    <tr>\n",
       "      <th>2</th>\n",
       "      <td>620</td>\n",
       "      <td>Firms with 5 to 9 employees</td>\n",
       "      <td>6265576</td>\n",
       "      <td>1</td>\n",
       "    </tr>\n",
       "    <tr>\n",
       "      <th>3</th>\n",
       "      <td>630</td>\n",
       "      <td>Firms with 10 to 19 employees</td>\n",
       "      <td>8242749</td>\n",
       "      <td>1</td>\n",
       "    </tr>\n",
       "    <tr>\n",
       "      <th>4</th>\n",
       "      <td>641</td>\n",
       "      <td>Firms with 20 to 49 employees</td>\n",
       "      <td>12161051</td>\n",
       "      <td>1</td>\n",
       "    </tr>\n",
       "    <tr>\n",
       "      <th>5</th>\n",
       "      <td>642</td>\n",
       "      <td>Firms with 50 to 99 employees</td>\n",
       "      <td>8533853</td>\n",
       "      <td>1</td>\n",
       "    </tr>\n",
       "    <tr>\n",
       "      <th>6</th>\n",
       "      <td>651</td>\n",
       "      <td>Firms with 100 to 249 employees</td>\n",
       "      <td>10657260</td>\n",
       "      <td>1</td>\n",
       "    </tr>\n",
       "    <tr>\n",
       "      <th>7</th>\n",
       "      <td>652</td>\n",
       "      <td>Firms with 250 to 499 employees</td>\n",
       "      <td>7491988</td>\n",
       "      <td>1</td>\n",
       "    </tr>\n",
       "    <tr>\n",
       "      <th>8</th>\n",
       "      <td>657</td>\n",
       "      <td>Firms with 500 employees or more</td>\n",
       "      <td>69231676</td>\n",
       "      <td>1</td>\n",
       "    </tr>\n",
       "  </tbody>\n",
       "</table>\n",
       "</div>"
      ],
      "text/plain": [
       "  EMPSZFI                     EMPSZFI_LABEL       EMP us\n",
       "0     611           Firms with no employees         0  1\n",
       "1     612       Firms with 1 to 4 employees   5612254  1\n",
       "2     620       Firms with 5 to 9 employees   6265576  1\n",
       "3     630     Firms with 10 to 19 employees   8242749  1\n",
       "4     641     Firms with 20 to 49 employees  12161051  1\n",
       "5     642     Firms with 50 to 99 employees   8533853  1\n",
       "6     651   Firms with 100 to 249 employees  10657260  1\n",
       "7     652   Firms with 250 to 499 employees   7491988  1\n",
       "8     657  Firms with 500 employees or more  69231676  1"
      ]
     },
     "execution_count": 3,
     "metadata": {},
     "output_type": "execute_result"
    }
   ],
   "source": [
    "df"
   ]
  },
  {
   "cell_type": "code",
   "execution_count": 4,
   "metadata": {},
   "outputs": [],
   "source": [
    "pd.options.mode.chained_assignment = None"
   ]
  },
  {
   "cell_type": "code",
   "execution_count": 5,
   "metadata": {},
   "outputs": [
    {
     "data": {
      "image/png": "[encoded data removed]",
      "text/plain": [
       "<Figure size 432x288 with 1 Axes>"
      ]
     },
     "metadata": {
      "needs_background": "light"
     },
     "output_type": "display_data"
    }
   ],
   "source": [
    "emps = df[['EMP', 'EMPSZFI_LABEL']]\n",
    "emps['EMP'] = pd.to_numeric(emps['EMP'])\n",
    "emps.set_index(\"EMPSZFI_LABEL\",drop=True,inplace=True)\n",
    "ax = emps.plot(title = 'Employees per firm in US',kind='barh', legend=False)\n",
    "ax.set_xlabel('Number of employees (in millions)')\n",
    "ax.set_ylabel('')\n",
    "plt.show()\n"
   ]
  },
  {
   "cell_type": "code",
   "execution_count": 6,
   "metadata": {},
   "outputs": [
    {
     "data": {
      "text/plain": [
       "[['EMPSZFI', 'EMPSZFI_LABEL', 'RCPPDEMP', 'RCPPDEMP_F', 'us'],\n",
       " ['001', 'All firms', '38405539368', None, '1'],\n",
       " ['611', 'Firms with no employees', '325046053', None, '1'],\n",
       " ['612', 'Firms with 1 to 4 employees', '1247506977', None, '1'],\n",
       " ['620', 'Firms with 5 to 9 employees', '1071154479', None, '1'],\n",
       " ['630', 'Firms with 10 to 19 employees', '1397607709', None, '1'],\n",
       " ['641', 'Firms with 20 to 49 employees', '2421677332', None, '1'],\n",
       " ['642', 'Firms with 50 to 99 employees', '2212008509', None, '1'],\n",
       " ['651', 'Firms with 100 to 249 employees', '3208386734', None, '1'],\n",
       " ['652', 'Firms with 250 to 499 employees', '2178757220', None, '1'],\n",
       " ['657', 'Firms with 500 employees or more', '24343394355', None, '1']]"
      ]
     },
     "execution_count": 6,
     "metadata": {},
     "output_type": "execute_result"
    }
   ],
   "source": [
    "url=\"https://api.census.gov/data/2018/abscs?get=EMPSZFI,EMPSZFI_LABEL,RCPPDEMP,RCPPDEMP_F&for=us:*&key=b2c289dbb192d92ff73949ae8d4157f0731334e5\"\n",
    "\n",
    "\n",
    "data=json.loads(requests.get(url).text)\n",
    "\n",
    "data"
   ]
  },
  {
   "cell_type": "code",
   "execution_count": 7,
   "metadata": {},
   "outputs": [
    {
     "name": "stdout",
     "output_type": "stream",
     "text": [
      "['EMPSZFI', 'EMPSZFI_LABEL', 'RCPPDEMP', 'RCPPDEMP_F', 'us']\n",
      "[['611', 'Firms with no employees', '325046053', None, '1'], ['612', 'Firms with 1 to 4 employees', '1247506977', None, '1'], ['620', 'Firms with 5 to 9 employees', '1071154479', None, '1'], ['630', 'Firms with 10 to 19 employees', '1397607709', None, '1'], ['641', 'Firms with 20 to 49 employees', '2421677332', None, '1'], ['642', 'Firms with 50 to 99 employees', '2212008509', None, '1'], ['651', 'Firms with 100 to 249 employees', '3208386734', None, '1'], ['652', 'Firms with 250 to 499 employees', '2178757220', None, '1'], ['657', 'Firms with 500 employees or more', '24343394355', None, '1']]\n"
     ]
    },
    {
     "data": {
      "text/html": [
       "<div>\n",
       "<style scoped>\n",
       "    .dataframe tbody tr th:only-of-type {\n",
       "        vertical-align: middle;\n",
       "    }\n",
       "\n",
       "    .dataframe tbody tr th {\n",
       "        vertical-align: top;\n",
       "    }\n",
       "\n",
       "    .dataframe thead th {\n",
       "        text-align: right;\n",
       "    }\n",
       "</style>\n",
       "<table border=\"1\" class=\"dataframe\">\n",
       "  <thead>\n",
       "    <tr style=\"text-align: right;\">\n",
       "      <th></th>\n",
       "      <th>EMPSZFI</th>\n",
       "      <th>EMPSZFI_LABEL</th>\n",
       "      <th>RCPPDEMP</th>\n",
       "      <th>RCPPDEMP_F</th>\n",
       "      <th>us</th>\n",
       "    </tr>\n",
       "  </thead>\n",
       "  <tbody>\n",
       "    <tr>\n",
       "      <th>0</th>\n",
       "      <td>611</td>\n",
       "      <td>Firms with no employees</td>\n",
       "      <td>325046053</td>\n",
       "      <td>None</td>\n",
       "      <td>1</td>\n",
       "    </tr>\n",
       "    <tr>\n",
       "      <th>1</th>\n",
       "      <td>612</td>\n",
       "      <td>Firms with 1 to 4 employees</td>\n",
       "      <td>1247506977</td>\n",
       "      <td>None</td>\n",
       "      <td>1</td>\n",
       "    </tr>\n",
       "    <tr>\n",
       "      <th>2</th>\n",
       "      <td>620</td>\n",
       "      <td>Firms with 5 to 9 employees</td>\n",
       "      <td>1071154479</td>\n",
       "      <td>None</td>\n",
       "      <td>1</td>\n",
       "    </tr>\n",
       "    <tr>\n",
       "      <th>3</th>\n",
       "      <td>630</td>\n",
       "      <td>Firms with 10 to 19 employees</td>\n",
       "      <td>1397607709</td>\n",
       "      <td>None</td>\n",
       "      <td>1</td>\n",
       "    </tr>\n",
       "    <tr>\n",
       "      <th>4</th>\n",
       "      <td>641</td>\n",
       "      <td>Firms with 20 to 49 employees</td>\n",
       "      <td>2421677332</td>\n",
       "      <td>None</td>\n",
       "      <td>1</td>\n",
       "    </tr>\n",
       "  </tbody>\n",
       "</table>\n",
       "</div>"
      ],
      "text/plain": [
       "  EMPSZFI                  EMPSZFI_LABEL    RCPPDEMP RCPPDEMP_F us\n",
       "0     611        Firms with no employees   325046053       None  1\n",
       "1     612    Firms with 1 to 4 employees  1247506977       None  1\n",
       "2     620    Firms with 5 to 9 employees  1071154479       None  1\n",
       "3     630  Firms with 10 to 19 employees  1397607709       None  1\n",
       "4     641  Firms with 20 to 49 employees  2421677332       None  1"
      ]
     },
     "execution_count": 7,
     "metadata": {},
     "output_type": "execute_result"
    }
   ],
   "source": [
    "headers = data.pop(0)\n",
    "data.pop(0)\n",
    "print(headers)\n",
    "print(data)\n",
    "\n",
    "df_1 = pd.DataFrame(data, columns=headers)\n",
    "df_1.head()"
   ]
  },
  {
   "cell_type": "code",
   "execution_count": 8,
   "metadata": {},
   "outputs": [
    {
     "data": {
      "text/html": [
       "<div>\n",
       "<style scoped>\n",
       "    .dataframe tbody tr th:only-of-type {\n",
       "        vertical-align: middle;\n",
       "    }\n",
       "\n",
       "    .dataframe tbody tr th {\n",
       "        vertical-align: top;\n",
       "    }\n",
       "\n",
       "    .dataframe thead th {\n",
       "        text-align: right;\n",
       "    }\n",
       "</style>\n",
       "<table border=\"1\" class=\"dataframe\">\n",
       "  <thead>\n",
       "    <tr style=\"text-align: right;\">\n",
       "      <th></th>\n",
       "      <th>EMPSZFI</th>\n",
       "      <th>EMPSZFI_LABEL</th>\n",
       "      <th>RCPPDEMP</th>\n",
       "      <th>RCPPDEMP_F</th>\n",
       "      <th>us</th>\n",
       "    </tr>\n",
       "  </thead>\n",
       "  <tbody>\n",
       "    <tr>\n",
       "      <th>0</th>\n",
       "      <td>611</td>\n",
       "      <td>Firms with no employees</td>\n",
       "      <td>325046053</td>\n",
       "      <td>None</td>\n",
       "      <td>1</td>\n",
       "    </tr>\n",
       "    <tr>\n",
       "      <th>1</th>\n",
       "      <td>612</td>\n",
       "      <td>Firms with 1 to 4 employees</td>\n",
       "      <td>1247506977</td>\n",
       "      <td>None</td>\n",
       "      <td>1</td>\n",
       "    </tr>\n",
       "    <tr>\n",
       "      <th>2</th>\n",
       "      <td>620</td>\n",
       "      <td>Firms with 5 to 9 employees</td>\n",
       "      <td>1071154479</td>\n",
       "      <td>None</td>\n",
       "      <td>1</td>\n",
       "    </tr>\n",
       "    <tr>\n",
       "      <th>3</th>\n",
       "      <td>630</td>\n",
       "      <td>Firms with 10 to 19 employees</td>\n",
       "      <td>1397607709</td>\n",
       "      <td>None</td>\n",
       "      <td>1</td>\n",
       "    </tr>\n",
       "    <tr>\n",
       "      <th>4</th>\n",
       "      <td>641</td>\n",
       "      <td>Firms with 20 to 49 employees</td>\n",
       "      <td>2421677332</td>\n",
       "      <td>None</td>\n",
       "      <td>1</td>\n",
       "    </tr>\n",
       "    <tr>\n",
       "      <th>5</th>\n",
       "      <td>642</td>\n",
       "      <td>Firms with 50 to 99 employees</td>\n",
       "      <td>2212008509</td>\n",
       "      <td>None</td>\n",
       "      <td>1</td>\n",
       "    </tr>\n",
       "    <tr>\n",
       "      <th>6</th>\n",
       "      <td>651</td>\n",
       "      <td>Firms with 100 to 249 employees</td>\n",
       "      <td>3208386734</td>\n",
       "      <td>None</td>\n",
       "      <td>1</td>\n",
       "    </tr>\n",
       "    <tr>\n",
       "      <th>7</th>\n",
       "      <td>652</td>\n",
       "      <td>Firms with 250 to 499 employees</td>\n",
       "      <td>2178757220</td>\n",
       "      <td>None</td>\n",
       "      <td>1</td>\n",
       "    </tr>\n",
       "    <tr>\n",
       "      <th>8</th>\n",
       "      <td>657</td>\n",
       "      <td>Firms with 500 employees or more</td>\n",
       "      <td>24343394355</td>\n",
       "      <td>None</td>\n",
       "      <td>1</td>\n",
       "    </tr>\n",
       "  </tbody>\n",
       "</table>\n",
       "</div>"
      ],
      "text/plain": [
       "  EMPSZFI                     EMPSZFI_LABEL     RCPPDEMP RCPPDEMP_F us\n",
       "0     611           Firms with no employees    325046053       None  1\n",
       "1     612       Firms with 1 to 4 employees   1247506977       None  1\n",
       "2     620       Firms with 5 to 9 employees   1071154479       None  1\n",
       "3     630     Firms with 10 to 19 employees   1397607709       None  1\n",
       "4     641     Firms with 20 to 49 employees   2421677332       None  1\n",
       "5     642     Firms with 50 to 99 employees   2212008509       None  1\n",
       "6     651   Firms with 100 to 249 employees   3208386734       None  1\n",
       "7     652   Firms with 250 to 499 employees   2178757220       None  1\n",
       "8     657  Firms with 500 employees or more  24343394355       None  1"
      ]
     },
     "execution_count": 8,
     "metadata": {},
     "output_type": "execute_result"
    }
   ],
   "source": [
    "df_1"
   ]
  },
  {
   "cell_type": "code",
   "execution_count": 9,
   "metadata": {},
   "outputs": [
    {
     "data": {
      "image/png": "[encoded data removed]",
      "text/plain": [
       "<Figure size 432x288 with 1 Axes>"
      ]
     },
     "metadata": {
      "needs_background": "light"
     },
     "output_type": "display_data"
    }
   ],
   "source": [
    "rev = df_1[['EMPSZFI_LABEL', 'RCPPDEMP']]\n",
    "rev['RCPPDEMP'] = pd.to_numeric(rev['RCPPDEMP'])\n",
    "rev.set_index(\"EMPSZFI_LABEL\",drop=True,inplace=True)\n",
    "ax = rev.plot(title = 'Revenue per Firm Size in US',kind='barh', legend=False)\n",
    "ax.set_xlabel('Revenue of Employer firms ($1000)')\n",
    "ax.set_ylabel('')\n",
    "plt.show()"
   ]
  },
  {
   "cell_type": "code",
   "execution_count": 10,
   "metadata": {},
   "outputs": [
    {
     "data": {
      "text/plain": [
       "[['NAME',\n",
       "  'EMP',\n",
       "  'PAYANN',\n",
       "  'metropolitan statistical area/micropolitan statistical area'],\n",
       " ['Fargo, ND-MN Metro Area', '122696', '6039315', '22020'],\n",
       " ['La Crosse-Onalaska, WI-MN Metro Area', '54834', '2520369', '29100'],\n",
       " ['Grand Forks, ND-MN Metro Area', '45462', '1723420', '24220'],\n",
       " ['Mankato-North Mankato, MN Metro Area', '53275', '2155220', '31860'],\n",
       " ['Duluth, MN-WI Metro Area', '122790', '4905570', '20260'],\n",
       " ['Minneapolis-St. Paul-Bloomington, MN-WI Metro Area',\n",
       "  '1800463',\n",
       "  '105932770',\n",
       "  '33460'],\n",
       " ['Rochester, MN Metro Area', '110541', '6771158', '40340'],\n",
       " ['St. Cloud, MN Metro Area', '98054', '4511273', '41060']]"
      ]
     },
     "execution_count": 10,
     "metadata": {},
     "output_type": "execute_result"
    }
   ],
   "source": [
    "url = \"https://api.census.gov/data/2018/abscs?get=NAME,EMP,PAYANN&for=metropolitan%20statistical%20area/micropolitan%20statistical%20area:20260,22020,24220,29100,31860,33460,40340,41060&key=b2c289dbb192d92ff73949ae8d4157f0731334e5\"\n",
    "\n",
    "\n",
    "data=json.loads(requests.get(url).text)\n",
    "\n",
    "data\n"
   ]
  },
  {
   "cell_type": "code",
   "execution_count": 11,
   "metadata": {},
   "outputs": [
    {
     "name": "stdout",
     "output_type": "stream",
     "text": [
      "['NAME', 'EMP', 'PAYANN', 'metropolitan statistical area/micropolitan statistical area']\n",
      "[['Fargo, ND-MN Metro Area', '122696', '6039315', '22020'], ['La Crosse-Onalaska, WI-MN Metro Area', '54834', '2520369', '29100'], ['Grand Forks, ND-MN Metro Area', '45462', '1723420', '24220'], ['Mankato-North Mankato, MN Metro Area', '53275', '2155220', '31860'], ['Duluth, MN-WI Metro Area', '122790', '4905570', '20260'], ['Minneapolis-St. Paul-Bloomington, MN-WI Metro Area', '1800463', '105932770', '33460'], ['Rochester, MN Metro Area', '110541', '6771158', '40340'], ['St. Cloud, MN Metro Area', '98054', '4511273', '41060']]\n"
     ]
    },
    {
     "data": {
      "text/html": [
       "<div>\n",
       "<style scoped>\n",
       "    .dataframe tbody tr th:only-of-type {\n",
       "        vertical-align: middle;\n",
       "    }\n",
       "\n",
       "    .dataframe tbody tr th {\n",
       "        vertical-align: top;\n",
       "    }\n",
       "\n",
       "    .dataframe thead th {\n",
       "        text-align: right;\n",
       "    }\n",
       "</style>\n",
       "<table border=\"1\" class=\"dataframe\">\n",
       "  <thead>\n",
       "    <tr style=\"text-align: right;\">\n",
       "      <th></th>\n",
       "      <th>NAME</th>\n",
       "      <th>EMP</th>\n",
       "      <th>PAYANN</th>\n",
       "      <th>metropolitan statistical area/micropolitan statistical area</th>\n",
       "    </tr>\n",
       "  </thead>\n",
       "  <tbody>\n",
       "    <tr>\n",
       "      <th>0</th>\n",
       "      <td>Fargo, ND-MN Metro Area</td>\n",
       "      <td>122696</td>\n",
       "      <td>6039315</td>\n",
       "      <td>22020</td>\n",
       "    </tr>\n",
       "    <tr>\n",
       "      <th>1</th>\n",
       "      <td>La Crosse-Onalaska, WI-MN Metro Area</td>\n",
       "      <td>54834</td>\n",
       "      <td>2520369</td>\n",
       "      <td>29100</td>\n",
       "    </tr>\n",
       "    <tr>\n",
       "      <th>2</th>\n",
       "      <td>Grand Forks, ND-MN Metro Area</td>\n",
       "      <td>45462</td>\n",
       "      <td>1723420</td>\n",
       "      <td>24220</td>\n",
       "    </tr>\n",
       "    <tr>\n",
       "      <th>3</th>\n",
       "      <td>Mankato-North Mankato, MN Metro Area</td>\n",
       "      <td>53275</td>\n",
       "      <td>2155220</td>\n",
       "      <td>31860</td>\n",
       "    </tr>\n",
       "    <tr>\n",
       "      <th>4</th>\n",
       "      <td>Duluth, MN-WI Metro Area</td>\n",
       "      <td>122790</td>\n",
       "      <td>4905570</td>\n",
       "      <td>20260</td>\n",
       "    </tr>\n",
       "  </tbody>\n",
       "</table>\n",
       "</div>"
      ],
      "text/plain": [
       "                                   NAME     EMP   PAYANN  \\\n",
       "0               Fargo, ND-MN Metro Area  122696  6039315   \n",
       "1  La Crosse-Onalaska, WI-MN Metro Area   54834  2520369   \n",
       "2         Grand Forks, ND-MN Metro Area   45462  1723420   \n",
       "3  Mankato-North Mankato, MN Metro Area   53275  2155220   \n",
       "4              Duluth, MN-WI Metro Area  122790  4905570   \n",
       "\n",
       "  metropolitan statistical area/micropolitan statistical area  \n",
       "0                                              22020           \n",
       "1                                              29100           \n",
       "2                                              24220           \n",
       "3                                              31860           \n",
       "4                                              20260           "
      ]
     },
     "execution_count": 11,
     "metadata": {},
     "output_type": "execute_result"
    }
   ],
   "source": [
    "headers = data.pop(0)\n",
    "print(headers)\n",
    "print(data)\n",
    "\n",
    "df_1 = pd.DataFrame(data, columns=headers)\n",
    "df_1.head()"
   ]
  },
  {
   "cell_type": "code",
   "execution_count": 12,
   "metadata": {},
   "outputs": [
    {
     "data": {
      "text/html": [
       "<div>\n",
       "<style scoped>\n",
       "    .dataframe tbody tr th:only-of-type {\n",
       "        vertical-align: middle;\n",
       "    }\n",
       "\n",
       "    .dataframe tbody tr th {\n",
       "        vertical-align: top;\n",
       "    }\n",
       "\n",
       "    .dataframe thead th {\n",
       "        text-align: right;\n",
       "    }\n",
       "</style>\n",
       "<table border=\"1\" class=\"dataframe\">\n",
       "  <thead>\n",
       "    <tr style=\"text-align: right;\">\n",
       "      <th></th>\n",
       "      <th>NAME</th>\n",
       "      <th>EMP</th>\n",
       "      <th>PAYANN</th>\n",
       "      <th>metropolitan statistical area/micropolitan statistical area</th>\n",
       "    </tr>\n",
       "  </thead>\n",
       "  <tbody>\n",
       "    <tr>\n",
       "      <th>0</th>\n",
       "      <td>Fargo, ND-MN Metro Area</td>\n",
       "      <td>122696</td>\n",
       "      <td>6039315</td>\n",
       "      <td>22020</td>\n",
       "    </tr>\n",
       "    <tr>\n",
       "      <th>1</th>\n",
       "      <td>La Crosse-Onalaska, WI-MN Metro Area</td>\n",
       "      <td>54834</td>\n",
       "      <td>2520369</td>\n",
       "      <td>29100</td>\n",
       "    </tr>\n",
       "    <tr>\n",
       "      <th>2</th>\n",
       "      <td>Grand Forks, ND-MN Metro Area</td>\n",
       "      <td>45462</td>\n",
       "      <td>1723420</td>\n",
       "      <td>24220</td>\n",
       "    </tr>\n",
       "    <tr>\n",
       "      <th>3</th>\n",
       "      <td>Mankato-North Mankato, MN Metro Area</td>\n",
       "      <td>53275</td>\n",
       "      <td>2155220</td>\n",
       "      <td>31860</td>\n",
       "    </tr>\n",
       "    <tr>\n",
       "      <th>4</th>\n",
       "      <td>Duluth, MN-WI Metro Area</td>\n",
       "      <td>122790</td>\n",
       "      <td>4905570</td>\n",
       "      <td>20260</td>\n",
       "    </tr>\n",
       "    <tr>\n",
       "      <th>5</th>\n",
       "      <td>Minneapolis-St. Paul-Bloomington, MN-WI Metro ...</td>\n",
       "      <td>1800463</td>\n",
       "      <td>105932770</td>\n",
       "      <td>33460</td>\n",
       "    </tr>\n",
       "    <tr>\n",
       "      <th>6</th>\n",
       "      <td>Rochester, MN Metro Area</td>\n",
       "      <td>110541</td>\n",
       "      <td>6771158</td>\n",
       "      <td>40340</td>\n",
       "    </tr>\n",
       "    <tr>\n",
       "      <th>7</th>\n",
       "      <td>St. Cloud, MN Metro Area</td>\n",
       "      <td>98054</td>\n",
       "      <td>4511273</td>\n",
       "      <td>41060</td>\n",
       "    </tr>\n",
       "  </tbody>\n",
       "</table>\n",
       "</div>"
      ],
      "text/plain": [
       "                                                NAME      EMP     PAYANN  \\\n",
       "0                            Fargo, ND-MN Metro Area   122696    6039315   \n",
       "1               La Crosse-Onalaska, WI-MN Metro Area    54834    2520369   \n",
       "2                      Grand Forks, ND-MN Metro Area    45462    1723420   \n",
       "3               Mankato-North Mankato, MN Metro Area    53275    2155220   \n",
       "4                           Duluth, MN-WI Metro Area   122790    4905570   \n",
       "5  Minneapolis-St. Paul-Bloomington, MN-WI Metro ...  1800463  105932770   \n",
       "6                           Rochester, MN Metro Area   110541    6771158   \n",
       "7                           St. Cloud, MN Metro Area    98054    4511273   \n",
       "\n",
       "  metropolitan statistical area/micropolitan statistical area  \n",
       "0                                              22020           \n",
       "1                                              29100           \n",
       "2                                              24220           \n",
       "3                                              31860           \n",
       "4                                              20260           \n",
       "5                                              33460           \n",
       "6                                              40340           \n",
       "7                                              41060           "
      ]
     },
     "execution_count": 12,
     "metadata": {},
     "output_type": "execute_result"
    }
   ],
   "source": [
    "df_1\n"
   ]
  },
  {
   "cell_type": "code",
   "execution_count": 13,
   "metadata": {},
   "outputs": [
    {
     "data": {
      "image/png": "[encoded data removed]",
      "text/plain": [
       "<Figure size 432x288 with 2 Axes>"
      ]
     },
     "metadata": {
      "needs_background": "light"
     },
     "output_type": "display_data"
    }
   ],
   "source": [
    "\n",
    "rev = df_1[['NAME', 'EMP', 'PAYANN']]\n",
    "rev['EMP'] = pd.to_numeric(rev['EMP'])\n",
    "rev.set_index(\"NAME\",drop=True,inplace=True)\n",
    "rev['PAYANN'] = pd.to_numeric(rev['PAYANN'])\n",
    "ax = rev.plot(title = 'Ann Payroll and Num of Empl per Metro Area', secondary_y='PAYANN', kind='bar')\n",
    "ax.set_xlabel('')\n",
    "ax.set_ylabel('Number of Employees')\n",
    "ax.right_ax.set_ylabel('Annual payroll ($1000)')\n",
    "plt.show()"
   ]
  },
  {
   "cell_type": "code",
   "execution_count": 14,
   "metadata": {},
   "outputs": [],
   "source": [
    "# Clustered Bar:\n",
    "\n",
    "\n",
    "\n",
    "# columns03 = df03[['SEX_LABEL', 'EMP', 'PAYANN']]\n",
    "# columns03['EMP'] = pd.to_numeric(columns03['EMP'])\n",
    "# columns03['PAYANN'] = pd.to_numeric(columns03['PAYANN'])\n",
    "# ax03 = columns03.plot(x='SEX_LABEL',y=['EMP','PAYANN'],kind='bar')\n",
    "# ax03.set_xlabel('Sex')\n",
    "# ax03.set_ylabel('Number of employees')\n",
    "# plt.show()"
   ]
  },
  {
   "cell_type": "code",
   "execution_count": null,
   "metadata": {},
   "outputs": [],
   "source": []
  }
 ],
 "metadata": {
  "interpreter": {
   "hash": "63fd5069d213b44bf678585dea6b12cceca9941eaf7f819626cde1f2670de90d"
  },
  "kernelspec": {
   "display_name": "Python 3.9.6 64-bit",
   "language": "python",
   "name": "python3"
  },
  "language_info": {
   "codemirror_mode": {
    "name": "ipython",
    "version": 3
   },
   "file_extension": ".py",
   "mimetype": "text/x-python",
   "name": "python",
   "nbconvert_exporter": "python",
   "pygments_lexer": "ipython3",
   "version": "3.9.6"
  },
  "orig_nbformat": 4
 },
 "nbformat": 4,
 "nbformat_minor": 2
}
