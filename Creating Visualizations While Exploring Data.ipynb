{
 "cells": [
  {
   "cell_type": "markdown",
   "id": "93ee2f72",
   "metadata": {},
   "source": [
    "# Creating Visualizations While Exploring Data\n",
    "\n",
    "## Justin Bartell\n",
    "\n",
    "\n",
    "\n",
    "### Graph 1: US Annual Pay by RACE"
   ]
  },
  {
   "cell_type": "code",
   "execution_count": 1,
   "id": "c189a76f",
   "metadata": {},
   "outputs": [
    {
     "ename": "NameError",
     "evalue": "name 'full_list' is not defined",
     "output_type": "error",
     "traceback": [
      "\u001b[1;31m---------------------------------------------------------------------------\u001b[0m",
      "\u001b[1;31mNameError\u001b[0m                                 Traceback (most recent call last)",
      "\u001b[1;32m~\\AppData\\Local\\Temp/ipykernel_84072/570782382.py\u001b[0m in \u001b[0;36m<module>\u001b[1;34m\u001b[0m\n\u001b[0;32m     16\u001b[0m \u001b[0murl\u001b[0m\u001b[1;33m=\u001b[0m\u001b[1;34mf\"https://api.census.gov/data/2018/abscs?get={params}&for={location}&key={key}\"\u001b[0m\u001b[1;33m\u001b[0m\u001b[1;33m\u001b[0m\u001b[0m\n\u001b[0;32m     17\u001b[0m \u001b[1;33m\u001b[0m\u001b[0m\n\u001b[1;32m---> 18\u001b[1;33m \u001b[0mprint\u001b[0m\u001b[1;33m(\u001b[0m\u001b[0mlen\u001b[0m\u001b[1;33m(\u001b[0m\u001b[0mfull_list\u001b[0m\u001b[1;33m)\u001b[0m\u001b[1;33m)\u001b[0m\u001b[1;33m\u001b[0m\u001b[1;33m\u001b[0m\u001b[0m\n\u001b[0m\u001b[0;32m     19\u001b[0m \u001b[0mprint\u001b[0m\u001b[1;33m(\u001b[0m\u001b[0murl\u001b[0m\u001b[1;33m)\u001b[0m\u001b[1;33m\u001b[0m\u001b[1;33m\u001b[0m\u001b[0m\n\u001b[0;32m     20\u001b[0m \u001b[1;33m\u001b[0m\u001b[0m\n",
      "\u001b[1;31mNameError\u001b[0m: name 'full_list' is not defined"
     ]
    }
   ],
   "source": [
    "import requests\n",
    "import json\n",
    "import pandas as pd\n",
    "import matplotlib.pyplot as plt\n",
    "import numpy as np\n",
    "%matplotlib inline\n",
    "\n",
    "pd.options.mode.chained_assignment = None\n",
    "\n",
    "#params=\"NAME,EMP,PAYANN\"\n",
    "#location=\"metropolitan%20statistical%20area/micropolitan%20statistical%20area:20260,22020,24220,29100,31860,33460,40340,41060\"\n",
    "\n",
    "params=\"RACE_GROUP,RACE_GROUP_LABEL,PAYANN,EMP\"\n",
    "location=\"us:*\"\n",
    "key=\"d4ceac55dc7bdf83bc5742bf6fe9f5deb05d8b53\"\n",
    "url=f\"https://api.census.gov/data/2018/abscs?get={params}&for={location}&key={key}\"\n",
    "\n",
    "print(len(full_list))\n",
    "print(url)\n",
    "\n",
    "full_list=json.loads(requests.get(url).text)\n",
    "headers = full_list.pop(0)\n",
    "df = pd.DataFrame(full_list, columns=headers)\n",
    "df[:]"
   ]
  },
  {
   "cell_type": "code",
   "execution_count": null,
   "id": "3e54f80d",
   "metadata": {},
   "outputs": [],
   "source": [
    "to_plot=df[['RACE_GROUP_LABEL']]\n",
    "to_plot['PAYANN']=pd.to_numeric(df['PAYANN'])\n",
    "to_plot['EMP']=pd.to_numeric(df['EMP'])\n",
    "to_plot['PayPerEmp']=to_plot['PAYANN']/to_plot['EMP']\n",
    "to_plot.drop(['PAYANN','EMP'],inplace=True,axis=1)\n",
    "to_plot.set_index('RACE_GROUP_LABEL',inplace=True)\n",
    "\n",
    "ax1=to_plot.plot(title='US Annual Pay by Race',kind='barh')\n",
    "ax1.set_ylabel('Race')\n",
    "ax1.set_xlabel('Pay per Employee ($1,000)')\n",
    "plt.show()"
   ]
  },
  {
   "cell_type": "markdown",
   "id": "fdda7d83",
   "metadata": {},
   "source": [
    "\n",
    "\n",
    "\n",
    "\n",
    "\n",
    "\n",
    "\n",
    "\n",
    "\n",
    "\n",
    "### Graph 2: US Annual Pay by STATE"
   ]
  },
  {
   "cell_type": "code",
   "execution_count": null,
   "id": "961774e1",
   "metadata": {},
   "outputs": [],
   "source": [
    "url='https://api.census.gov/data/2018/abscs?get=NAME,PAYANN,EMP&for=state:11,27,55&key=d4ceac55dc7bdf83bc5742bf6fe9f5deb05d8b53'\n",
    "full_list=json.loads(requests.get(url).text)\n",
    "headers = full_list.pop(0)\n",
    "df = pd.DataFrame(full_list, columns=headers)\n",
    "df[:]"
   ]
  },
  {
   "cell_type": "code",
   "execution_count": null,
   "id": "626bd0e0",
   "metadata": {},
   "outputs": [],
   "source": [
    "to_plot=df[['NAME']]\n",
    "to_plot['PAYANN']=pd.to_numeric(df['PAYANN'])\n",
    "to_plot['EMP']=pd.to_numeric(df['EMP'])\n",
    "to_plot['PayPerEmp']=to_plot['PAYANN']/to_plot['EMP']\n",
    "to_plot.drop(['PAYANN','EMP'],inplace=True,axis=1)\n",
    "to_plot.set_index('NAME',inplace=True)\n",
    "\n",
    "ax2=to_plot.plot(title='US Annual Pay by State',kind='bar')\n",
    "ax2.set_xlabel('State/Region')\n",
    "ax2.set_ylabel('Pay per Employee ($1,000)')\n",
    "plt.show()"
   ]
  },
  {
   "cell_type": "markdown",
   "id": "56661c06",
   "metadata": {},
   "source": [
    "\n",
    "\n",
    "\n",
    "\n",
    "\n",
    "\n",
    "\n",
    "\n",
    "\n",
    "\n",
    "### Graph 3: US Annual Pay by SECTOR"
   ]
  },
  {
   "cell_type": "code",
   "execution_count": null,
   "id": "fd02e17b",
   "metadata": {},
   "outputs": [],
   "source": [
    "url='https://api.census.gov/data/2018/abscs?get=NAICS2017,NAICS2017_LABEL,EMP,PAYANN&for=us:*&key=d4ceac55dc7bdf83bc5742bf6fe9f5deb05d8b53'\n",
    "full_list=json.loads(requests.get(url).text)\n",
    "headers = full_list.pop(0)\n",
    "df = pd.DataFrame(full_list, columns=headers)\n",
    "df[:]"
   ]
  },
  {
   "cell_type": "code",
   "execution_count": null,
   "id": "5c272deb",
   "metadata": {},
   "outputs": [],
   "source": [
    "to_plot=df[['NAICS2017_LABEL']]\n",
    "to_plot['PAYANN']=pd.to_numeric(df['PAYANN'])\n",
    "to_plot['EMP']=pd.to_numeric(df['EMP'])\n",
    "to_plot['PayPerEmp']=to_plot['PAYANN']/to_plot['EMP']\n",
    "to_plot.drop(['PAYANN','EMP'],inplace=True,axis=1)\n",
    "to_plot.set_index('NAICS2017_LABEL',inplace=True)\n",
    "to_plot.sort_values(by='PayPerEmp',inplace=True)\n",
    "\n",
    "ax3=to_plot.plot(title='US Annual Pay by Sector',kind='barh')\n",
    "ax3.set_ylabel('Sector')\n",
    "ax3.set_xlabel('Pay per Employee ($1,000)')\n",
    "plt.show()"
   ]
  },
  {
   "cell_type": "markdown",
   "id": "f5ffc1ab",
   "metadata": {},
   "source": [
    "### Graph 4+5: Scatterplots of US Annual Pay and Employee Number Over Time"
   ]
  },
  {
   "cell_type": "markdown",
   "id": "3553efa4",
   "metadata": {},
   "source": []
  },
  {
   "cell_type": "code",
   "execution_count": null,
   "id": "1f6b4403",
   "metadata": {},
   "outputs": [],
   "source": [
    "params=\"YEAR,EMP,PAYANN\"\n",
    "location=\"us:*\"\n",
    "key=\"d4ceac55dc7bdf83bc5742bf6fe9f5deb05d8b53\"\n",
    "\n",
    "full_list=[]\n",
    "for year in range(2017,2020):\n",
    "    url=f\"https://api.census.gov/data/{year}/abscs?get={params}&for={location}&key={key}\"\n",
    "    temp=json.loads(requests.get(url).text)\n",
    "    headers=temp.pop(0)\n",
    "    for row in temp:\n",
    "        full_list.append(row)\n",
    "df = pd.DataFrame(full_list, columns=headers)\n",
    "df[:]\n"
   ]
  },
  {
   "cell_type": "code",
   "execution_count": null,
   "id": "c95ea9ce",
   "metadata": {},
   "outputs": [],
   "source": [
    "to_plot=df.copy()\n",
    "to_plot['YEAR']=pd.to_numeric(df['YEAR'])\n",
    "to_plot['PAYANN']=pd.to_numeric(df['PAYANN'])\n",
    "to_plot['EMP']=pd.to_numeric(df['EMP'])\n",
    "to_plot['PayPerEmp']=to_plot['PAYANN']/to_plot['EMP']\n",
    "#to_plot.drop(['PAYANN','EMP'],inplace=True,axis=1)\n",
    "\n",
    "ax4=to_plot.plot(title='US Annual Pay Over Time',kind='scatter',x='YEAR',y='PayPerEmp')\n",
    "ax4.set_xlabel('Year')\n",
    "ax4.set_ylabel('Pay per Employee ($1,000)')\n",
    "ax4.set_xticks([2017,2018,2019])\n",
    "\n",
    "ax5=to_plot.plot(title='US Employee Number Over Time', kind='scatter',x='YEAR',y='EMP')\n",
    "ax5.set_xlabel('Year')\n",
    "ax5.set_ylabel('Number of Employees (100 million)')\n",
    "ax5.set_xticks([2017,2018,2019])\n",
    "plt.show()"
   ]
  }
 ],
 "metadata": {
  "kernelspec": {
   "display_name": "Python 3 (ipykernel)",
   "language": "python",
   "name": "python3"
  },
  "language_info": {
   "codemirror_mode": {
    "name": "ipython",
    "version": 3
   },
   "file_extension": ".py",
   "mimetype": "text/x-python",
   "name": "python",
   "nbconvert_exporter": "python",
   "pygments_lexer": "ipython3",
   "version": "3.9.7"
  }
 },
 "nbformat": 4,
 "nbformat_minor": 5
}
